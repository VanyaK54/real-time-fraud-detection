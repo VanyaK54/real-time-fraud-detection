{
 "cells": [
  {
   "cell_type": "code",
   "execution_count": null,
   "id": "082ff554",
   "metadata": {
    "vscode": {
     "languageId": "plaintext"
    }
   },
   "outputs": [],
   "source": [
    "# Model Training Notebook\n",
    "\n",
    "import pandas as pd\n",
    "from sklearn.preprocessing import MinMaxScaler, LabelEncoder\n",
    "from sklearn.ensemble import IsolationForest\n",
    "from joblib import dump\n",
    "\n",
    "# Load data\n",
    "df = pd.read_csv('../data/raw/transactions_raw.csv')\n",
    "\n",
    "# Encode categorical columns\n",
    "df['location_code'] = LabelEncoder().fit_transform(df['location'])\n",
    "df['device_type_code'] = LabelEncoder().fit_transform(df['device_type'])\n",
    "\n",
    "# Scale amount\n",
    "df['amount_scaled'] = MinMaxScaler().fit_transform(df[['amount']])\n",
    "\n",
    "# Save processed data\n",
    "processed = df[['timestamp', 'user_id', 'amount_scaled', 'location_code', 'device_type_code']]\n",
    "processed.to_csv('../data/processed/transactions_processed.csv', index=False)\n",
    "\n",
    "# Train model\n",
    "X = processed[['amount_scaled', 'location_code', 'device_type_code']]\n",
    "model = IsolationForest(n_estimators=100, contamination=0.05, random_state=42)\n",
    "model.fit(X)\n",
    "\n",
    "# Save model\n",
    "dump(model, '../models/isolation_forest_model.pkl')\n",
    "print(\"Model trained and saved.\")\n"
   ]
  }
 ],
 "metadata": {
  "language_info": {
   "name": "python"
  }
 },
 "nbformat": 4,
 "nbformat_minor": 5
}
